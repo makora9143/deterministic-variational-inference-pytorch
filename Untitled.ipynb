{
 "cells": [
  {
   "cell_type": "code",
   "execution_count": 19,
   "metadata": {},
   "outputs": [],
   "source": [
    "%matplotlib inline\n",
    "\n",
    "import math\n",
    "import matplotlib.pyplot as plt\n",
    "import numpy as np\n",
    "import torch\n",
    "import torch.optim as optim\n",
    "\n",
    "from bayes_models import MLP, AdaptedMLP\n",
    "\n",
    "\n",
    "torch.manual_seed(123)\n",
    "np.random.seed(3)"
   ]
  },
  {
   "cell_type": "code",
   "execution_count": 2,
   "metadata": {},
   "outputs": [],
   "source": [
    "def toy_results_plot(data, data_generator, hypers=None, predictions=None):   \n",
    "    train_x = np.arange(np.min(data[0][0].reshape(-1)),\n",
    "                        np.max(data[0][0].reshape(-1)), 1/100)\n",
    "    \n",
    "    # plot the training data distribution\n",
    "    plt.plot(train_x, data_generator['mean'](train_x), 'red', label='data mean')\n",
    "    plt.fill_between(train_x,\n",
    "                     data_generator['mean'](train_x) - data_generator['std'](train_x),\n",
    "                     data_generator['mean'](train_x) + data_generator['std'](train_x),\n",
    "                     color='orange', alpha=1, label='data 1-std')\n",
    "    plt.plot(data[0][0], data[0][1], 'r.', alpha=0.2, label='train sample')\n",
    "     \n",
    "    # plot the model distribution\n",
    "    if predictions is not None:\n",
    "        x = predictions[0]\n",
    "        y_mean   = predictions[1]['mean'][:,0]\n",
    "        ell_mean = predictions[1]['mean'][:,1]\n",
    "        y_var    = predictions[1]['cov'][:,0,0]\n",
    "        ell_var  = predictions[1]['cov'][:,1,1]\n",
    "        \n",
    "        if hypers['style'] != 'heteroskedastic':\n",
    "            ell_mean = hypers[\"homo_logvar_scale\"]\n",
    "            ell_var = 0\n",
    "\n",
    "        heteroskedastic_part = np.exp(0.5 * ell_mean)\n",
    "        full_std = np.sqrt(y_var + np.exp(ell_mean + 0.5 * ell_var))\n",
    "\n",
    "        plt.plot(x, y_mean, label='model mean')\n",
    "        plt.fill_between(x,\n",
    "                         y_mean - heteroskedastic_part,\n",
    "                         y_mean + heteroskedastic_part,\n",
    "                         color='g', alpha = 0.2, label='$\\ell$ contrib')\n",
    "        plt.fill_between(x,\n",
    "                         y_mean - full_std,\n",
    "                         y_mean + full_std,\n",
    "                         color='b', alpha = 0.2, label='model 1-std')\n",
    "        \n",
    "    plt.xlabel('x')\n",
    "    plt.ylabel('y')\n",
    "    plt.ylim([-3,2])\n",
    "    plt.legend()"
   ]
  },
  {
   "cell_type": "code",
   "execution_count": 3,
   "metadata": {},
   "outputs": [
    {
     "data": {
      "image/png": "[encoded data removed]",
      "text/plain": [
       "<Figure size 432x288 with 1 Axes>"
      ]
     },
     "metadata": {
      "needs_background": "light"
     },
     "output_type": "display_data"
    }
   ],
   "source": [
    "def base_model(x):\n",
    "    return -(x + 0.5) * np.sin(3 * np.pi * x)\n",
    "\n",
    "def noise_model(x):\n",
    "    return 0.45 * (x + 0.5) ** 2\n",
    "\n",
    "def sample_data(x):\n",
    "    return base_model(x) + np.random.normal(0, noise_model(x))\n",
    "\n",
    "data_size = {'train': 500, 'valid': 100, 'test': 100}\n",
    "toy_data = []\n",
    "for section in ['train', 'valid', 'test']:\n",
    "    x = (np.random.rand(data_size[section], 1) - 0.5)\n",
    "    toy_data.append([x, sample_data(x).reshape(-1)])\n",
    "    \n",
    "x = np.arange(-1, 1, 1/100)\n",
    "toy_data.append([[[_] for _ in x], base_model(x)])\n",
    "toy_results_plot(toy_data, {'mean':base_model, 'std':noise_model})"
   ]
  },
  {
   "cell_type": "code",
   "execution_count": 25,
   "metadata": {},
   "outputs": [],
   "source": [
    "train_x, train_y = torch.tensor(toy_data[0][0]).float(), torch.tensor(toy_data[0][1]).float()\n",
    "valid_x, valid_y = torch.tensor(toy_data[1][0]).float(), torch.tensor(toy_data[1][1]).float()\n",
    "test_x, test_y = torch.tensor(toy_data[2][0]).float(), torch.tensor(toy_data[2][1]).float()\n",
    "all_x, all_y = torch.tensor(toy_data[3][0]).float(), torch.tensor(toy_data[3][1]).float()"
   ]
  },
  {
   "cell_type": "code",
   "execution_count": 46,
   "metadata": {},
   "outputs": [],
   "source": [
    "prior_type = [\"empirical\", \"wider_he\", \"wider_he\"]\n",
    "adapter = {\n",
    "        'in' : {\"scale\": [[1.0]], \"shift\": [[0.0]]},\n",
    "        'out': {\"scale\": [[1.0, 0.83]], \"shift\": [[0.0, -3.5]]}\n",
    "    }\n",
    "hidden_dims = [128,128]\n",
    "batch_size = 500\n",
    "epochs = 20000\n",
    "learning_rate = 0.001\n",
    "x_dim = 1\n",
    "y_dim = 2\n",
    "homo_logvar_scale = 2 * math.log(0.2)"
   ]
  },
  {
   "cell_type": "code",
   "execution_count": 47,
   "metadata": {},
   "outputs": [],
   "source": [
    "mlp = MLP(x_dim, y_dim, prior_type, hidden_dims=hidden_dims)\n",
    "mlp = AdaptedMLP(mlp, adapter)\n",
    "optimizer = optim.Adam(mlp.mlp.parameters(), lr=learning_rate)"
   ]
  },
  {
   "cell_type": "code",
   "execution_count": 48,
   "metadata": {},
   "outputs": [],
   "source": [
    "def heteroskedastic_gaussian_loglikelihood(pred, target, method='bayes'):\n",
    "    mean = pred.mean[:, 0].reshape(-1)\n",
    "    log_variance = pred.mean[:, 1].reshape(-1)\n",
    "    if method.lower().strip() == 'bayes':\n",
    "        sll = pred.var[:, 1, 1].reshape(-1)\n",
    "        smm = pred.var[:, 0, 0].reshape(-1)\n",
    "        sml = pred.var[:, 0, 1].reshape(-1)\n",
    "    else:\n",
    "        sll = smm = sml = torch.tensor(0.0)\n",
    "    return gaussian_loglikelihood_core(target, mean, log_variance, smm, sml, sll)\n",
    "\n",
    "def homoskedastic_gaussian_loglikelihood(pred, target, method='bayes'):\n",
    "    log_variance = torch.tensor(homo_logvar_scale)\n",
    "    mean = pred.mean[:, 0].reshape(-1)\n",
    "    sll = torch.tensor(0.0)\n",
    "    sml = torch.tensor(0.0)\n",
    "    if method.lower().strip() == 'bayes':\n",
    "        smm = pred.var[:, 0, 0].reshape(-1)\n",
    "    else:\n",
    "        smm = torch.tensor(0.0)\n",
    "    return gaussian_loglikelihood_core(target, mean, log_variance, smm, sml, sll)\n",
    "\n",
    "def gaussian_loglikelihood_core(target, mean, log_variance, smm, sml, sll):\n",
    "    return -0.5 * (torch.tensor(math.log(2.0 * math.pi)) + log_variance +\n",
    "                   torch.exp(-log_variance + 0.5 * sll) * (smm + (mean - sml - target) ** 2))\n",
    "\n",
    "\n",
    "def gll_loss(pred, target, style='heteroskedastic'):\n",
    "    gaussian_loglikelihood = (     heteroskedastic_gaussian_loglikelihood \n",
    "                              if   style == 'heteroskedastic' \n",
    "                              else homoskedastic_gaussian_loglikelihood)\n",
    "    log_likelihood = gaussian_loglikelihood(pred, target, method='bayes')\n",
    "    batch_log_likelihood = torch.mean(log_likelihood)\n",
    "    return batch_log_likelihood"
   ]
  },
  {
   "cell_type": "code",
   "execution_count": 57,
   "metadata": {},
   "outputs": [],
   "source": [
    "pred = mlp(train_x)"
   ]
  },
  {
   "cell_type": "code",
   "execution_count": 59,
   "metadata": {},
   "outputs": [],
   "source": [
    "gll_loss(pred, train_y).backward()"
   ]
  },
  {
   "cell_type": "code",
   "execution_count": null,
   "metadata": {},
   "outputs": [],
   "source": [
    "def train(epoch, model, train_x, train_y, optimizer):\n",
    "    model.train()\n",
    "    \n",
    "    optimizer.zero_grad()\n",
    "    predict = model(train_x)\n",
    "    "
   ]
  },
  {
   "cell_type": "code",
   "execution_count": null,
   "metadata": {},
   "outputs": [],
   "source": [
    "for epoch in range(1, epochs+1):\n",
    "    train(epochm model, train_x, train_y, optimizer)"
   ]
  }
 ],
 "metadata": {
  "kernelspec": {
   "display_name": "Python 3",
   "language": "python",
   "name": "python3"
  },
  "language_info": {
   "codemirror_mode": {
    "name": "ipython",
    "version": 3
   },
   "file_extension": ".py",
   "mimetype": "text/x-python",
   "name": "python",
   "nbconvert_exporter": "python",
   "pygments_lexer": "ipython3",
   "version": "3.7.1"
  }
 },
 "nbformat": 4,
 "nbformat_minor": 2
}
