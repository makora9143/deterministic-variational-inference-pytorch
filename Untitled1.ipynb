{
 "cells": [
  {
   "cell_type": "code",
   "execution_count": 1,
   "metadata": {},
   "outputs": [],
   "source": [
    "from dataset import ToyDataset\n",
    "from torch.utils.data import DataLoader\n",
    "from bayes_models import MLP, AdaptedMLP\n",
    "from loss import GLLLoss\n",
    "import torch"
   ]
  },
  {
   "cell_type": "code",
   "execution_count": 2,
   "metadata": {},
   "outputs": [],
   "source": [
    "dataset = ToyDataset()\n",
    "dataloader = DataLoader(dataset, batch_size=500)"
   ]
  },
  {
   "cell_type": "code",
   "execution_count": 3,
   "metadata": {},
   "outputs": [],
   "source": [
    "train_x, train_y = list(dataloader)[0]\n",
    "# train_x, train_y = train_x.cuda(), train_y.cuda()"
   ]
  },
  {
   "cell_type": "code",
   "execution_count": 4,
   "metadata": {},
   "outputs": [],
   "source": [
    "prior_type = [\"empirical\", \"wider_he\", \"wider_he\"]\n",
    "hidden_dims = [128, 128]\n",
    "adapter = {\n",
    "    'in': {\"scale\": [[1.0]], \"shift\": [[0.0]]},\n",
    "    'out': {\"scale\": [[1.0, 0.83]], \"shift\": [[0.0, -3.5]]}\n",
    "}"
   ]
  },
  {
   "cell_type": "code",
   "execution_count": 5,
   "metadata": {},
   "outputs": [],
   "source": [
    "mlp = MLP(1, 2, prior_type, hidden_dims)\n",
    "model = AdaptedMLP(mlp, adapter)"
   ]
  },
  {
   "cell_type": "code",
   "execution_count": 6,
   "metadata": {},
   "outputs": [
    {
     "data": {
      "text/plain": [
       "MLP(\n",
       "  (layers): Sequential(\n",
       "    (0): LinearCertainActivations(\n",
       "      prior=empirical, in_features=1, out_features=128, bias=True\n",
       "      (weight): Parameter=>\n",
       "      \tVariational Distribution: Normal(loc=torch.Size([128, 1]), scale=torch.Size([128, 1]))\n",
       "      \tPrior: InverseGamma(concentration: 4.479800224304199, scale: 27.39900016784668)\n",
       "      (bias): Parameter=>\n",
       "      \tVariational Distribution: Normal(loc=torch.Size([128]), scale=torch.Size([128]))\n",
       "      \tPrior: InverseGamma(concentration: 4.479800224304199, scale: 27.39900016784668)\n",
       "    )\n",
       "    (1): LinearReLU(\n",
       "      prior=empirical, in_features=128, out_features=128, bias=True\n",
       "      (weight): Parameter=>\n",
       "      \tVariational Distribution: Normal(loc=torch.Size([128, 128]), scale=torch.Size([128, 128]))\n",
       "      \tPrior: InverseGamma(concentration: 4.479800224304199, scale: 0.21405468881130219)\n",
       "      (bias): Parameter=>\n",
       "      \tVariational Distribution: Normal(loc=torch.Size([128]), scale=torch.Size([128]))\n",
       "      \tPrior: InverseGamma(concentration: 4.479800224304199, scale: 0.21405468881130219)\n",
       "    )\n",
       "    (2): LinearReLU(\n",
       "      prior=empirical, in_features=128, out_features=2, bias=True\n",
       "      (weight): Parameter=>\n",
       "      \tVariational Distribution: Normal(loc=torch.Size([2, 128]), scale=torch.Size([2, 128]))\n",
       "      \tPrior: InverseGamma(concentration: 4.479800224304199, scale: 0.21405468881130219)\n",
       "      (bias): Parameter=>\n",
       "      \tVariational Distribution: Normal(loc=torch.Size([2]), scale=torch.Size([2]))\n",
       "      \tPrior: InverseGamma(concentration: 4.479800224304199, scale: 0.21405468881130219)\n",
       "    )\n",
       "  )\n",
       ")"
      ]
     },
     "execution_count": 6,
     "metadata": {},
     "output_type": "execute_result"
    }
   ],
   "source": [
    "model"
   ]
  },
  {
   "cell_type": "code",
   "execution_count": 7,
   "metadata": {},
   "outputs": [],
   "source": [
    "pred = model(train_x)"
   ]
  },
  {
   "cell_type": "code",
   "execution_count": 8,
   "metadata": {},
   "outputs": [],
   "source": [
    "log_variance = pred.mean[:, 1].reshape(-1)\n",
    "mean = pred.mean[:, 0].reshape(-1)"
   ]
  },
  {
   "cell_type": "code",
   "execution_count": 9,
   "metadata": {},
   "outputs": [],
   "source": [
    "sll = pred.var[:, 1, 1].reshape(-1)\n",
    "smm = pred.var[:, 0, 0].reshape(-1)\n",
    "sml = pred.var[:, 0, 1].reshape(-1)"
   ]
  },
  {
   "cell_type": "code",
   "execution_count": 13,
   "metadata": {},
   "outputs": [
    {
     "data": {
      "text/plain": [
       "tensor([[-inf, -inf, -inf,  ..., -inf, -inf, -inf],\n",
       "        [-inf, -inf, -inf,  ..., -inf, -inf, -inf],\n",
       "        [-inf, -inf, -inf,  ..., -inf, -inf, -inf],\n",
       "        ...,\n",
       "        [-inf, -inf, -inf,  ..., -inf, -inf, -inf],\n",
       "        [-inf, -inf, -inf,  ..., -inf, -inf, -inf],\n",
       "        [-inf, -inf, -inf,  ..., -inf, -inf, -inf]], grad_fn=<MulBackward0>)"
      ]
     },
     "execution_count": 13,
     "metadata": {},
     "output_type": "execute_result"
    }
   ],
   "source": [
    "from loss import GLLLoss\n",
    "loss = GLLLoss()\n",
    "loss(pred, train_y)"
   ]
  },
  {
   "cell_type": "code",
   "execution_count": 11,
   "metadata": {},
   "outputs": [],
   "source": [
    "%matplotlib inline\n",
    "import matplotlib.pyplot as plt"
   ]
  },
  {
   "cell_type": "code",
   "execution_count": 12,
   "metadata": {},
   "outputs": [],
   "source": [
    "import bayes_utils as bu\n",
    "\n",
    "x = torch.arange(-10, 10, 1/100)"
   ]
  },
  {
   "cell_type": "code",
   "execution_count": 42,
   "metadata": {},
   "outputs": [
    {
     "data": {
      "text/plain": [
       "[<matplotlib.lines.Line2D at 0x7f5aba980518>]"
      ]
     },
     "execution_count": 42,
     "metadata": {},
     "output_type": "execute_result"
    },
    {
     "data": {
      "image/png": "[encoded data removed]",
      "text/plain": [
       "<Figure size 432x288 with 1 Axes>"
      ]
     },
     "metadata": {
      "needs_background": "light"
     },
     "output_type": "display_data"
    }
   ],
   "source": [
    "plt.plot(x.numpy(), bu.softrelu(x).numpy())\n",
    "plt.plot(x.numpy(), bu.standard_gaussian(x).numpy())\n",
    "plt.plot(x.numpy(), bu.gaussian_cdf(x).numpy())\n",
    "plt.plot(x.numpy(), (x * bu.gaussian_cdf(x)).numpy())"
   ]
  },
  {
   "cell_type": "code",
   "execution_count": 39,
   "metadata": {},
   "outputs": [
    {
     "data": {
      "text/plain": [
       "[<matplotlib.lines.Line2D at 0x7f5aba58a9e8>]"
      ]
     },
     "execution_count": 39,
     "metadata": {},
     "output_type": "execute_result"
    },
    {
     "data": {
      "image/png": "[encoded data removed]",
      "text/plain": [
       "<Figure size 432x288 with 1 Axes>"
      ]
     },
     "metadata": {
      "needs_background": "light"
     },
     "output_type": "display_data"
    }
   ],
   "source": [
    "plt.plot(x.numpy(), bu.standard_gaussian(x).numpy())"
   ]
  },
  {
   "cell_type": "code",
   "execution_count": null,
   "metadata": {},
   "outputs": [],
   "source": []
  }
 ],
 "metadata": {
  "kernelspec": {
   "display_name": "Python 3",
   "language": "python",
   "name": "python3"
  },
  "language_info": {
   "codemirror_mode": {
    "name": "ipython",
    "version": 3
   },
   "file_extension": ".py",
   "mimetype": "text/x-python",
   "name": "python",
   "nbconvert_exporter": "python",
   "pygments_lexer": "ipython3",
   "version": "3.7.1"
  }
 },
 "nbformat": 4,
 "nbformat_minor": 2
}
